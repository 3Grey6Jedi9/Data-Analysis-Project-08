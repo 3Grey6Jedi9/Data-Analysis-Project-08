{
 "cells": [
  {
   "cell_type": "code",
   "execution_count": 2,
   "metadata": {
    "collapsed": true,
    "pycharm": {
     "name": "#%%\n"
    }
   },
   "outputs": [
    {
     "data": {
      "text/plain": "  Movie Title  Runtime                       Genre  Award Wins  \\\n0        Argo      120  Biography, Drama, Thriller          95   \n1    Parasite      132             Drama, Thriller         308   \n\n   Award Nominations  Box Office  \n0                156   136025503  \n1                271    53369749  ",
      "text/html": "<div>\n<style scoped>\n    .dataframe tbody tr th:only-of-type {\n        vertical-align: middle;\n    }\n\n    .dataframe tbody tr th {\n        vertical-align: top;\n    }\n\n    .dataframe thead th {\n        text-align: right;\n    }\n</style>\n<table border=\"1\" class=\"dataframe\">\n  <thead>\n    <tr style=\"text-align: right;\">\n      <th></th>\n      <th>Movie Title</th>\n      <th>Runtime</th>\n      <th>Genre</th>\n      <th>Award Wins</th>\n      <th>Award Nominations</th>\n      <th>Box Office</th>\n    </tr>\n  </thead>\n  <tbody>\n    <tr>\n      <th>0</th>\n      <td>Argo</td>\n      <td>120</td>\n      <td>Biography, Drama, Thriller</td>\n      <td>95</td>\n      <td>156</td>\n      <td>136025503</td>\n    </tr>\n    <tr>\n      <th>1</th>\n      <td>Parasite</td>\n      <td>132</td>\n      <td>Drama, Thriller</td>\n      <td>308</td>\n      <td>271</td>\n      <td>53369749</td>\n    </tr>\n  </tbody>\n</table>\n</div>"
     },
     "execution_count": 2,
     "metadata": {},
     "output_type": "execute_result"
    }
   ],
   "source": [
    "import pandas as pd\n",
    "import matplotlib.pyplot as plt\n",
    "\n",
    "movie_data = pd.read_csv(\"movies.csv\")\n",
    "movie_data"
   ]
  },
  {
   "cell_type": "markdown",
   "source": [
    "a) What was the runtime for each movie?"
   ],
   "metadata": {
    "collapsed": false,
    "pycharm": {
     "name": "#%% md\n"
    }
   }
  },
  {
   "cell_type": "code",
   "execution_count": 21,
   "outputs": [
    {
     "data": {
      "text/plain": "  Movie Title  Runtime\n0        Argo      120\n1    Parasite      132",
      "text/html": "<div>\n<style scoped>\n    .dataframe tbody tr th:only-of-type {\n        vertical-align: middle;\n    }\n\n    .dataframe tbody tr th {\n        vertical-align: top;\n    }\n\n    .dataframe thead th {\n        text-align: right;\n    }\n</style>\n<table border=\"1\" class=\"dataframe\">\n  <thead>\n    <tr style=\"text-align: right;\">\n      <th></th>\n      <th>Movie Title</th>\n      <th>Runtime</th>\n    </tr>\n  </thead>\n  <tbody>\n    <tr>\n      <th>0</th>\n      <td>Argo</td>\n      <td>120</td>\n    </tr>\n    <tr>\n      <th>1</th>\n      <td>Parasite</td>\n      <td>132</td>\n    </tr>\n  </tbody>\n</table>\n</div>"
     },
     "execution_count": 21,
     "metadata": {},
     "output_type": "execute_result"
    }
   ],
   "source": [
    "movie_unique = movie_data.drop_duplicates()\n",
    "movie_unique.iloc[:,0:2]"
   ],
   "metadata": {
    "collapsed": false,
    "pycharm": {
     "name": "#%%\n"
    }
   }
  }
 ],
 "metadata": {
  "kernelspec": {
   "display_name": "Python 3",
   "language": "python",
   "name": "python3"
  },
  "language_info": {
   "codemirror_mode": {
    "name": "ipython",
    "version": 2
   },
   "file_extension": ".py",
   "mimetype": "text/x-python",
   "name": "python",
   "nbconvert_exporter": "python",
   "pygments_lexer": "ipython2",
   "version": "2.7.6"
  }
 },
 "nbformat": 4,
 "nbformat_minor": 0
}